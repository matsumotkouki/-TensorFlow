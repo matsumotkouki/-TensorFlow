{
 "cells": [
  {
   "cell_type": "code",
   "execution_count": 2,
   "metadata": {},
   "outputs": [
    {
     "name": "stdout",
     "output_type": "stream",
     "text": [
      "Training Step: 9899  | total loss: \u001b[1m\u001b[32m0.63474\u001b[0m\u001b[0m | time: 2.451s\n",
      "| SGD | epoch: 020 | loss: 0.63474 - acc: 0.9215 -- iter: 49400/49500\n",
      "Training Step: 9900  | total loss: \u001b[1m\u001b[32m0.58777\u001b[0m\u001b[0m | time: 3.469s\n",
      "| SGD | epoch: 020 | loss: 0.58777 - acc: 0.9234 | val_loss: 0.10020 - val_acc: 0.9700 -- iter: 49500/49500\n",
      "--\n",
      "[7 2 1 ... 4 5 6]\n",
      "[7 2 1 ... 4 5 6]\n",
      "0.9747\n"
     ]
    },
    {
     "data": {
      "image/png": "[encoded data removed]",
      "text/plain": [
       "<Figure size 432x288 with 1 Axes>"
      ]
     },
     "metadata": {},
     "output_type": "display_data"
    }
   ],
   "source": [
    "#ライブラリの読み込み\n",
    "import tensorflow as tf\n",
    "import tflearn\n",
    "import tflearn.datasets.mnist as mnist\n",
    "#MNISTデータセットを扱うためのライブラリ\n",
    "from matplotlib import pyplot as plt\n",
    "#MNIST画像を表示するためのライブラリ\n",
    "from matplotlib import cm\n",
    "import numpy as np\n",
    "\n",
    "trainX, trainY, testX, testY = mnist.load_data('./', one_hot=True)\n",
    "#配列trainx[0]の要素784を28*28サイズに変換し、グレースケール画像として表示\n",
    "plt.imshow(trainX[0].reshape(28, 28), cmap=cm.gray_r, interpolation='nearest')\n",
    "tf.reset_default_graph()\n",
    "net = tflearn.input_data(shape=[None, 784])\n",
    "net = tflearn.fully_connected(net, 128, activation='relu')\n",
    "net = tflearn.dropout(net, 0.5)\n",
    "net = tflearn.fully_connected(net, 10, activation='softmax')\n",
    "net = tflearn.regression(net, optimizer='sgd', learning_rate=0.5, loss='categorical_crossentropy')\n",
    "model = tflearn.DNN(net)\n",
    "model.fit(trainX, trainY, n_epoch=20, batch_size=100, validation_set=0.1,show_metric=True)\n",
    "pred = np.array(model.predict(testX)).argmax(axis=1)\n",
    "print(pred)\n",
    "label = testY.argmax(axis=1)\n",
    "print(label)\n",
    "accuracy = np.mean(pred == label, axis=0)\n",
    "print(accuracy)"
   ]
  },
  {
   "cell_type": "code",
   "execution_count": null,
   "metadata": {},
   "outputs": [],
   "source": []
  },
  {
   "cell_type": "code",
   "execution_count": null,
   "metadata": {},
   "outputs": [],
   "source": []
  }
 ],
 "metadata": {
  "kernelspec": {
   "display_name": "Python 2",
   "language": "python",
   "name": "python2"
  },
  "language_info": {
   "codemirror_mode": {
    "name": "ipython",
    "version": 2
   },
   "file_extension": ".py",
   "mimetype": "text/x-python",
   "name": "python",
   "nbconvert_exporter": "python",
   "pygments_lexer": "ipython2",
   "version": "2.7.14"
  }
 },
 "nbformat": 4,
 "nbformat_minor": 2
}
